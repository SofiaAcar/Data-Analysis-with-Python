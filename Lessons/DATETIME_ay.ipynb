{
 "cells": [
  {
   "cell_type": "markdown",
   "id": "aa2cfd45",
   "metadata": {
    "slideshow": {
     "slide_type": "slide"
    }
   },
   "source": [
    "# DATETIME = DATE, TIME, DATETIME"
   ]
  },
  {
   "cell_type": "markdown",
   "id": "9e6df45e",
   "metadata": {
    "slideshow": {
     "slide_type": "subslide"
    }
   },
   "source": [
    "# date.today()"
   ]
  },
  {
   "cell_type": "code",
   "execution_count": 41,
   "id": "412b444f",
   "metadata": {
    "scrolled": true,
    "slideshow": {
     "slide_type": "subslide"
    }
   },
   "outputs": [],
   "source": [
    "from datetime import date\n",
    "from datetime import datetime\n",
    "from datetime import time"
   ]
  },
  {
   "cell_type": "code",
   "execution_count": 44,
   "id": "1a9fbb34",
   "metadata": {
    "slideshow": {
     "slide_type": "subslide"
    }
   },
   "outputs": [
    {
     "name": "stdout",
     "output_type": "stream",
     "text": [
      "2021-08-19\n",
      "2021\n",
      "8\n",
      "19\n",
      "3\n"
     ]
    }
   ],
   "source": [
    "print(date.today())  # date.today()\n",
    "print(date.today().year)  # date.today().year\n",
    "print(date.today().month)  # date.today().month\n",
    "print(date.today().day)  # date.today().day\n",
    "print(date.today().weekday())  # date.today().weekday()"
   ]
  },
  {
   "cell_type": "code",
   "execution_count": 72,
   "id": "0f08a2cc",
   "metadata": {
    "slideshow": {
     "slide_type": "subslide"
    }
   },
   "outputs": [
    {
     "name": "stdout",
     "output_type": "stream",
     "text": [
      "2021-08-19\n",
      "19 8 2021\n"
     ]
    }
   ],
   "source": [
    "today = date.today()\n",
    "\n",
    "print(today)\n",
    "print(today.day, today.month, today.year)  # today.day=date.today().day"
   ]
  },
  {
   "cell_type": "code",
   "execution_count": 76,
   "id": "1fc90af0",
   "metadata": {
    "slideshow": {
     "slide_type": "subslide"
    }
   },
   "outputs": [
    {
     "name": "stdout",
     "output_type": "stream",
     "text": [
      "18029\n"
     ]
    }
   ],
   "source": [
    "doğum = date(1972, 4, 9)\n",
    "bugün = date(today.year, today.month, today.day)\n",
    "y = yaşanan_gün = date.toordinal(bugün) - date.toordinal(doğum)  # date.toordinal (milattan bu tarihe)\n",
    "print(y)"
   ]
  },
  {
   "cell_type": "markdown",
   "id": "cbc475d4",
   "metadata": {
    "slideshow": {
     "slide_type": "slide"
    }
   },
   "source": [
    "# datetime.now().strftime(\"%_\")"
   ]
  },
  {
   "cell_type": "code",
   "execution_count": 75,
   "id": "b4096c68",
   "metadata": {
    "slideshow": {
     "slide_type": "subslide"
    }
   },
   "outputs": [
    {
     "name": "stdout",
     "output_type": "stream",
     "text": [
      "Thu Aug 19 15:06:04 2021\n",
      "08/19/21\n",
      "15:06:04\n"
     ]
    }
   ],
   "source": [
    "print(datetime.now().strftime(\"%c\"))  # c : günismi ay gün saat yıl\n",
    "print(datetime.now().strftime(\"%x\"))  # x : ay / gün / yıl_iki haneli (sadece tarih)\n",
    "print(datetime.now().strftime(\"%X\"))  # X : sadece saat (salisesiz)"
   ]
  },
  {
   "cell_type": "code",
   "execution_count": 37,
   "id": "057eeae6",
   "metadata": {
    "slideshow": {
     "slide_type": "subslide"
    }
   },
   "outputs": [
    {
     "name": "stdout",
     "output_type": "stream",
     "text": [
      "19 Aug 21 Thu\n",
      "19 August 2021 Thursday\n",
      "19 August 2021 Thursday 14:12:50\n"
     ]
    }
   ],
   "source": [
    "print(datetime.now().strftime(\"%d %b %y %a\"))  # d : day number\n",
    "print(datetime.now().strftime(\"%d %B %Y %A\"))  # a : gün ismi (kısa)   A : Gün ismi (uzun)\n",
    "print(datetime.now().strftime(\"%d %B %Y %A %X\"))  # y : yıl (21)          Y : Yıl (2021)"
   ]
  },
  {
   "cell_type": "code",
   "execution_count": 38,
   "id": "829127b1",
   "metadata": {
    "slideshow": {
     "slide_type": "subslide"
    }
   },
   "outputs": [
    {
     "name": "stdout",
     "output_type": "stream",
     "text": [
      "08/19/21 Aug 21 Thu\n",
      "08/19/21 August 2021 Thursday\n",
      "08/19/21 August 2021 Thursday 14:12:51\n"
     ]
    }
   ],
   "source": [
    "print(datetime.now().strftime(\"%D %b %y %a\"))\n",
    "print(datetime.now().strftime(\"%D %B %Y %A\"))  # b : ay adı (kısa)     B : Ay adı (uzun)\n",
    "print(datetime.now().strftime(\"%D %B %Y %A %X\"))  # D : x gibi tarih gösterir / / /"
   ]
  },
  {
   "cell_type": "code",
   "execution_count": 40,
   "id": "609f25ac",
   "metadata": {
    "scrolled": true,
    "slideshow": {
     "slide_type": "subslide"
    }
   },
   "outputs": [
    {
     "name": "stdout",
     "output_type": "stream",
     "text": [
      "02:14:27 PM\n",
      "14:14:27 PM\n",
      "14:14\n"
     ]
    }
   ],
   "source": [
    "print(datetime.now().strftime(\"%I:%M:%S %p\"))\n",
    "print(datetime.now().strftime(\"%H:%M:%S %p\"))\n",
    "print(datetime.now().strftime(\"%H:%M\"))"
   ]
  }
 ],
 "metadata": {
  "kernelspec": {
   "display_name": "Python 3",
   "language": "python",
   "name": "python3"
  },
  "language_info": {
   "codemirror_mode": {
    "name": "ipython",
    "version": 3
   },
   "file_extension": ".py",
   "mimetype": "text/x-python",
   "name": "python",
   "nbconvert_exporter": "python",
   "pygments_lexer": "ipython3",
   "version": "3.8.8"
  },
  "toc": {
   "base_numbering": 1,
   "nav_menu": {},
   "number_sections": true,
   "sideBar": true,
   "skip_h1_title": false,
   "title_cell": "Table of Contents",
   "title_sidebar": "Contents",
   "toc_cell": false,
   "toc_position": {},
   "toc_section_display": true,
   "toc_window_display": false
  }
 },
 "nbformat": 4,
 "nbformat_minor": 5
}
