{
 "cells": [
  {
   "cell_type": "markdown",
   "metadata": {},
   "source": [
    "## Seaborn and Matplotlib\n"
   ]
  },
  {
   "cell_type": "code",
   "execution_count": null,
   "metadata": {},
   "outputs": [],
   "source": [
    "########################################################\n",
    "## Importing Library\n",
    "########################################################\n",
    "\n",
    "import numpy as np\n",
    "import pandas as pd\n",
    "\n",
    "import seaborn as sns\n",
    "import matplotlib.pyplot as plt\n",
    "%matplotlib inline"
   ]
  },
  {
   "cell_type": "code",
   "execution_count": null,
   "metadata": {},
   "outputs": [],
   "source": [
    "########################################################\n",
    "## Check Version\n",
    "########################################################\n",
    "\n",
    "\n",
    "print(plt.matplotlib.__version__)\n"
   ]
  },
  {
   "cell_type": "code",
   "execution_count": null,
   "metadata": {},
   "outputs": [],
   "source": [
    "age = [25, 27, 29, 31, 33, 35, 37, 39, 41, 43, 45]\n",
    "salary = [38496, 42000, 46752, 49320, 53200, 56000, 62316, 64928, 67317, 68748, 73752]"
   ]
  },
  {
   "cell_type": "code",
   "execution_count": null,
   "metadata": {},
   "outputs": [],
   "source": [
    "#  DataFrame.plot.line(x=None, y=None, **kwds)"
   ]
  },
  {
   "cell_type": "code",
   "execution_count": null,
   "metadata": {},
   "outputs": [],
   "source": [
    "########################################################\n",
    "## Basic Line Plot with Pandas\n",
    "########################################################\n",
    "\n",
    "df = pd.DataFrame({\"age\" : [25, 27, 29, 31, 33, 35, 37, 39, 41, 43, 45], \"salary\" : [38496, 42000, 46752, 49320, 53200, 56000, 62316, 64928, 67317, 68748, 73752]\n",
    "    }, index=[25, 27, 29, 31, 33, 35, 37, 39, 41, 43, 45])\n",
    "\n",
    "df.head()\n"
   ]
  },
  {
   "cell_type": "code",
   "execution_count": null,
   "metadata": {},
   "outputs": [],
   "source": [
    "lines = df.plot.line(x='age', y='salary', color = \"red\")"
   ]
  },
  {
   "cell_type": "code",
   "execution_count": null,
   "metadata": {},
   "outputs": [],
   "source": [
    "########################################################\n",
    "## Basic Line Plot with Matplotlib\n",
    "########################################################\n",
    "plt.plot(age,salary)\n",
    "\n",
    "\n"
   ]
  },
  {
   "cell_type": "code",
   "execution_count": null,
   "metadata": {},
   "outputs": [],
   "source": [
    "# functional method\n",
    "plt.plot(age, salary)\n",
    "\n",
    "plt.xlabel(\"Age\")\n",
    "plt.ylabel(\"Salary\")\n",
    "plt.title(\"Salary by Age\");\n",
    "plt.show()"
   ]
  },
  {
   "cell_type": "code",
   "execution_count": null,
   "metadata": {},
   "outputs": [],
   "source": [
    "fig, ax = plt.subplots()\n",
    "\n",
    "ax.plot(age,salary, \"r\")\n",
    "\n",
    "ax.set_xlabel(\"Age\")\n",
    "ax.set_ylabel('Salary')\n",
    "ax.set_title(\"Salary by Age\")\n",
    "plt.show()"
   ]
  },
  {
   "cell_type": "code",
   "execution_count": null,
   "metadata": {},
   "outputs": [],
   "source": [
    "plt.subplot(2,3,1)\n",
    "plt.plot()\n",
    "plt.subplot(2,3,2)\n",
    "plt.plot()\n",
    "plt.subplot(2,3,3)\n",
    "plt.plot()\n",
    "plt.subplot(2,3,4)\n",
    "plt.plot()\n",
    "plt.subplot(2,3,5)\n",
    "plt.plot()\n",
    "plt.subplot(2,3,6)\n",
    "plt.plot()\n",
    "plt.tight_layout()"
   ]
  },
  {
   "cell_type": "code",
   "execution_count": null,
   "metadata": {},
   "outputs": [],
   "source": [
    "salary_2 = [45372, 48876, 53850, 57287, 63016,65998, 70003, 70000, 71496, 75370, 83640]"
   ]
  },
  {
   "cell_type": "code",
   "execution_count": null,
   "metadata": {},
   "outputs": [],
   "source": [
    "# functional\n",
    "plt.subplot(2,1,1)\n",
    "plt.plot(age, salary, \"r\")\n",
    "plt.xlabel(\"Age vs Salary1\")\n",
    "\n",
    "plt.subplot(2,1,2)\n",
    "plt.plot(age, salary_2, \"b\")\n",
    "plt.xlabel(\"Age vs Salary2\")\n",
    "\n",
    "plt.tight_layout()\n",
    "plt.show()\n"
   ]
  },
  {
   "cell_type": "code",
   "execution_count": null,
   "metadata": {},
   "outputs": [],
   "source": [
    "# functional\n",
    "plt.subplot(211)\n",
    "plt.plot(age, salary, \"r\")\n",
    "plt.xlabel(\"Age vs Salary1\")\n",
    "\n",
    "plt.subplot(211)\n",
    "plt.plot(age, salary_2, \"b\")\n",
    "plt.xlabel(\"Age vs Salary2\")\n",
    "\n",
    "plt.tight_layout()\n",
    "plt.show()"
   ]
  },
  {
   "cell_type": "code",
   "execution_count": null,
   "metadata": {},
   "outputs": [],
   "source": [
    "plt.plot(age, salary, color= \"green\")\n",
    "plt.plot(age, salary_2)\n",
    "\n",
    "plt.xlabel(\"Age\")\n",
    "plt.ylabel(\"Salary\")\n",
    "plt.title(\"Salary by Age\");\n",
    "plt.show()"
   ]
  },
  {
   "cell_type": "code",
   "execution_count": null,
   "metadata": {},
   "outputs": [],
   "source": [
    "x = np.arange(1,11)\n",
    "y = x.copy()\n",
    "z = x*2\n",
    "t = np.log(x)"
   ]
  },
  {
   "cell_type": "code",
   "execution_count": null,
   "metadata": {},
   "outputs": [],
   "source": [
    "fig, ax = plt.subplots(2,3)\n",
    "plt.tight_layout()\n",
    "\n",
    "ax[1,1].plot(x,y)\n",
    "\n",
    "ax[0,2].plot(x,x**2)\n",
    "\n",
    "plt.show()"
   ]
  },
  {
   "cell_type": "code",
   "execution_count": null,
   "metadata": {},
   "outputs": [],
   "source": [
    "plt.subplot(2,2,1)\n",
    "plt.plot(age, salary, \"r+\")\n",
    "\n",
    "plt.subplot(2,2,2)\n",
    "plt.plot(age, salary, \"b--\")\n",
    "\n",
    "plt.subplot(2,2,3)\n",
    "plt.plot(age, salary, \"mo\")\n",
    "\n",
    "plt.subplot(2,2,4)\n",
    "plt.plot(age, salary, \"c.\")\n",
    "plt.tight_layout()"
   ]
  },
  {
   "cell_type": "code",
   "execution_count": null,
   "metadata": {},
   "outputs": [],
   "source": [
    "plt.plot(age, salary, label=\"salary\")\n",
    "plt.plot(age, salary_2, label=\"salary_2\")\n",
    "\n",
    "plt.xlabel(\"Age\")\n",
    "plt.ylabel(\"Salary\")\n",
    "plt.title(\"Salary by Age\")\n",
    "\n",
    "plt.axvline(x=np.mean(age), ymin=0, ymax=90000, ls=\"--\")\n",
    "\n",
    "plt.legend(loc=0);\n",
    "\n",
    "plt.show()"
   ]
  },
  {
   "cell_type": "code",
   "execution_count": null,
   "metadata": {},
   "outputs": [],
   "source": [
    "plt.plot(age, salary, label=\"salary\")\n",
    "plt.plot(age, salary_2, label=\"salary_2\")\n",
    "plt.xlabel(\"age\")\n",
    "plt.ylabel(\"Salary\")\n",
    "plt.title(\"Salary by Age\")\n",
    "plt.axvline(x=35.5, ymin=0, ymax=90000, ls=\"--\")\n",
    "plt.axhline(xmin=0, xmax=45, y=60000, ls=\"--\")\n",
    "plt.legend(loc=0);\n",
    "plt.show()"
   ]
  },
  {
   "cell_type": "code",
   "execution_count": null,
   "metadata": {},
   "outputs": [],
   "source": [
    "x = np.arange(1,10)\n",
    "fig, ax = plt.subplots(nrows=1,ncols=2, figsize=(10,4))\n",
    "\n",
    "ax[0].plot(x,x**2, x,x**3, x,x**4)\n",
    "\n",
    "ax[1].plot(x,x**2, x,x**3, x,x**4)\n",
    "ax[1].set_xlim([2,4])\n",
    "ax[1].set_ylim([5,100])\n",
    "\n",
    "ax[0].axvline(x=3,ls=\"--\")\n",
    "ax[0].axhline(y=50,ls=\"--\")\n",
    "\n",
    "ax[1].axvline(x=3,ls=\"--\")\n",
    "ax[1].axhline(y=50,ls=\"--\")"
   ]
  },
  {
   "cell_type": "code",
   "execution_count": null,
   "metadata": {},
   "outputs": [],
   "source": [
    "tips = sns.load_dataset(\"tips\")\n",
    "tips.head()"
   ]
  },
  {
   "cell_type": "code",
   "execution_count": null,
   "metadata": {},
   "outputs": [],
   "source": [
    "plt.scatter(tips[\"tip\"], tips[\"total_bill\"])"
   ]
  },
  {
   "cell_type": "code",
   "execution_count": null,
   "metadata": {},
   "outputs": [],
   "source": [
    "day = tips.groupby(\"day\")[\"total_bill\"].sum()"
   ]
  },
  {
   "cell_type": "code",
   "execution_count": null,
   "metadata": {},
   "outputs": [],
   "source": [
    "day"
   ]
  },
  {
   "cell_type": "code",
   "execution_count": null,
   "metadata": {},
   "outputs": [],
   "source": [
    "plt.bar(day.index, day.values)\n",
    "plt.show()"
   ]
  },
  {
   "cell_type": "code",
   "execution_count": null,
   "metadata": {},
   "outputs": [],
   "source": [
    "sex = tips.groupby(\"sex\")[\"total_bill\"].sum().index\n",
    "tip = tips.groupby(\"sex\")[\"tip\"].sum()"
   ]
  },
  {
   "cell_type": "code",
   "execution_count": null,
   "metadata": {},
   "outputs": [],
   "source": [
    "fig, ax = plt.subplots()\n",
    "\n",
    "ax.bar(sex,tip)\n",
    "plt.show()"
   ]
  },
  {
   "cell_type": "code",
   "execution_count": null,
   "metadata": {},
   "outputs": [],
   "source": [
    "day = tips.groupby(\"day\")[\"total_bill\"].sum().index\n",
    "tip = tips.groupby(\"day\")[\"tip\"].sum()\n",
    "total = tips.groupby(\"day\")[\"total_bill\"].sum()\n",
    "\n",
    "\n",
    "fig, ax = plt.subplots()\n",
    "\n",
    "ax.bar(day, total, label=\"total\" )\n",
    "ax.bar(day, tip, label=\"tip\" )\n",
    "\n",
    "\n",
    "plt.legend()\n",
    "plt.show()"
   ]
  },
  {
   "cell_type": "code",
   "execution_count": null,
   "metadata": {},
   "outputs": [],
   "source": [
    "day = tips.groupby(\"day\")[\"total_bill\"].sum().index\n",
    "tip = tips.groupby(\"day\")[\"tip\"].sum()\n",
    "total = tips.groupby(\"day\")[\"total_bill\"].sum()\n",
    "\n",
    "x = np.arange(len(day))\n",
    "width = 0.35\n",
    "fig, ax = plt.subplots()\n",
    "\n",
    "ax.bar(x-width/2, total, width, label=\"total\" )\n",
    "ax.bar(x+width/2, tip,   width, label=\"tip\" )\n",
    "\n",
    "ax.set_xticks(x)\n",
    "ax.set_xticklabels(day)\n",
    "\n",
    "plt.legend()\n",
    "plt.show()"
   ]
  },
  {
   "cell_type": "code",
   "execution_count": null,
   "metadata": {},
   "outputs": [],
   "source": [
    "day = tips.groupby(\"day\")[\"total_bill\"].sum().index\n",
    "tip = tips.groupby(\"day\")[\"tip\"].sum()\n",
    "total = tips.groupby(\"day\")[\"total_bill\"].sum()\n",
    "\n",
    "x = np.arange(len(day))\n",
    "width = 0.35\n",
    "fig, ax = plt.subplots()\n",
    "\n",
    "ax.bar(x, total, width, label=\"total\" )\n",
    "ax.bar(x+width, tip,   width, label=\"tip\" )\n",
    "\n",
    "ax.set_xticks(x)\n",
    "ax.set_xticklabels(day)\n",
    "\n",
    "plt.legend()\n",
    "plt.show()"
   ]
  },
  {
   "cell_type": "code",
   "execution_count": null,
   "metadata": {},
   "outputs": [],
   "source": []
  },
  {
   "cell_type": "code",
   "execution_count": null,
   "metadata": {},
   "outputs": [],
   "source": [
    "plt.hist(tips[\"tip\"], bins= 100)\n",
    "plt.show()"
   ]
  },
  {
   "cell_type": "code",
   "execution_count": null,
   "metadata": {},
   "outputs": [],
   "source": [
    "plt.figure(figsize=(6,4))\n",
    "\n",
    "plt.boxplot(tips[\"total_bill\"], vert=False)\n",
    "plt.show()"
   ]
  },
  {
   "cell_type": "code",
   "execution_count": null,
   "metadata": {},
   "outputs": [],
   "source": [
    "plt.figure(figsize=(16,6))\n",
    "\n",
    "plt.boxplot([tips.tip, tips.total_bill], vert=False)\n",
    "plt.show()"
   ]
  },
  {
   "cell_type": "code",
   "execution_count": null,
   "metadata": {},
   "outputs": [],
   "source": [
    "print(sns.get_dataset_names())"
   ]
  },
  {
   "cell_type": "markdown",
   "metadata": {},
   "source": [
    "## Seaborn"
   ]
  },
  {
   "cell_type": "code",
   "execution_count": null,
   "metadata": {},
   "outputs": [],
   "source": [
    "plt.figure(figsize=(14,4))\n",
    "\n",
    "sns.scatterplot(x='total_bill',y='tip',data=tips)"
   ]
  },
  {
   "cell_type": "code",
   "execution_count": null,
   "metadata": {},
   "outputs": [],
   "source": [
    "sns.scatterplot(x=\"total_bill\",y=\"tip\",data=tips, hue= \"sex\", style=\"sex\")"
   ]
  },
  {
   "cell_type": "code",
   "execution_count": null,
   "metadata": {},
   "outputs": [],
   "source": [
    "sns.scatterplot(x=\"total_bill\",y=\"tip\",data=tips, hue=\"sex\", s=100, alpha = 0.5)"
   ]
  },
  {
   "cell_type": "code",
   "execution_count": null,
   "metadata": {},
   "outputs": [],
   "source": [
    "plt.figure(figsize=(12,8))\n",
    "sns.scatterplot(x=tips[\"total_bill\"],y='tip', data=tips,style='sex',hue='sex',s=100)\n",
    "\n",
    "# Call savefig in the same cell\n",
    "# plt.savefig('example_scatter.jpg')"
   ]
  },
  {
   "cell_type": "code",
   "execution_count": null,
   "metadata": {},
   "outputs": [],
   "source": [
    "sns.displot(x='total_bill', data=tips, kde = True, bins=100)"
   ]
  },
  {
   "cell_type": "code",
   "execution_count": null,
   "metadata": {},
   "outputs": [],
   "source": [
    "sns.histplot(data = tips, x = 'total_bill', bins=100, kde=True)  "
   ]
  },
  {
   "cell_type": "code",
   "execution_count": null,
   "metadata": {},
   "outputs": [],
   "source": []
  }
 ],
 "metadata": {
  "kernelspec": {
   "display_name": "Python 3",
   "language": "python",
   "name": "python3"
  },
  "language_info": {
   "codemirror_mode": {
    "name": "ipython",
    "version": 3
   },
   "file_extension": ".py",
   "mimetype": "text/x-python",
   "name": "python",
   "nbconvert_exporter": "python",
   "pygments_lexer": "ipython3",
   "version": "3.7.9"
  }
 },
 "nbformat": 4,
 "nbformat_minor": 4
}
